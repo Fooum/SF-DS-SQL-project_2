{
 "cells": [
  {
   "cell_type": "code",
   "execution_count": 1,
   "metadata": {},
   "outputs": [],
   "source": [
    "DBNAME = 'project_sql'\n",
    "USER = 'skillfactory'\n",
    "PASSWORD = 'cCkxxLVrDE8EbvjueeMedPKt'\n",
    "HOST = '84.201.134.129'\n",
    "PORT = 5432\n"
   ]
  },
  {
   "cell_type": "code",
   "execution_count": 2,
   "metadata": {},
   "outputs": [],
   "source": [
    "import psycopg2\n",
    "import pandas as pd\n",
    "import seaborn as sns\n",
    "import plotly as plt\n",
    "from matplotlib import pyplot as plt\n",
    "import plotly.express as px\n"
   ]
  },
  {
   "cell_type": "code",
   "execution_count": 3,
   "metadata": {},
   "outputs": [],
   "source": [
    "connection = psycopg2.connect(\n",
    "   dbname=DBNAME,\n",
    "   user=USER,\n",
    "   host=HOST,\n",
    "   password=PASSWORD,\n",
    "   port=PORT\n",
    ")"
   ]
  },
  {
   "cell_type": "markdown",
   "metadata": {},
   "source": [
    "#### 3.1 Определяю кол-во вакансий."
   ]
  },
  {
   "cell_type": "code",
   "execution_count": 4,
   "metadata": {},
   "outputs": [
    {
     "name": "stderr",
     "output_type": "stream",
     "text": [
      "C:\\Users\\dasad\\AppData\\Local\\Temp\\ipykernel_20220\\34693283.py:4: UserWarning: pandas only supports SQLAlchemy connectable (engine/connection) or database string URI or sqlite3 DBAPI2 connection. Other DBAPI2 objects are not tested. Please consider using SQLAlchemy.\n",
      "  df = pd.read_sql(query, connection)\n"
     ]
    },
    {
     "data": {
      "text/html": [
       "<div>\n",
       "<style scoped>\n",
       "    .dataframe tbody tr th:only-of-type {\n",
       "        vertical-align: middle;\n",
       "    }\n",
       "\n",
       "    .dataframe tbody tr th {\n",
       "        vertical-align: top;\n",
       "    }\n",
       "\n",
       "    .dataframe thead th {\n",
       "        text-align: right;\n",
       "    }\n",
       "</style>\n",
       "<table border=\"1\" class=\"dataframe\">\n",
       "  <thead>\n",
       "    <tr style=\"text-align: right;\">\n",
       "      <th></th>\n",
       "      <th>count</th>\n",
       "    </tr>\n",
       "  </thead>\n",
       "  <tbody>\n",
       "    <tr>\n",
       "      <th>0</th>\n",
       "      <td>49197</td>\n",
       "    </tr>\n",
       "  </tbody>\n",
       "</table>\n",
       "</div>"
      ],
      "text/plain": [
       "   count\n",
       "0  49197"
      ]
     },
     "execution_count": 4,
     "metadata": {},
     "output_type": "execute_result"
    }
   ],
   "source": [
    "query = f'''SELECT COUNT(id)\n",
    "            FROM vacancies\n",
    "        '''\n",
    "df = pd.read_sql(query, connection)\n",
    "df"
   ]
  },
  {
   "cell_type": "markdown",
   "metadata": {},
   "source": [
    "#### 3.2 Определяю кол-во работодателей."
   ]
  },
  {
   "cell_type": "code",
   "execution_count": 5,
   "metadata": {},
   "outputs": [
    {
     "name": "stderr",
     "output_type": "stream",
     "text": [
      "C:\\Users\\dasad\\AppData\\Local\\Temp\\ipykernel_20220\\2887869977.py:5: UserWarning: pandas only supports SQLAlchemy connectable (engine/connection) or database string URI or sqlite3 DBAPI2 connection. Other DBAPI2 objects are not tested. Please consider using SQLAlchemy.\n",
      "  df = pd.read_sql(query, connection)\n"
     ]
    },
    {
     "data": {
      "text/html": [
       "<div>\n",
       "<style scoped>\n",
       "    .dataframe tbody tr th:only-of-type {\n",
       "        vertical-align: middle;\n",
       "    }\n",
       "\n",
       "    .dataframe tbody tr th {\n",
       "        vertical-align: top;\n",
       "    }\n",
       "\n",
       "    .dataframe thead th {\n",
       "        text-align: right;\n",
       "    }\n",
       "</style>\n",
       "<table border=\"1\" class=\"dataframe\">\n",
       "  <thead>\n",
       "    <tr style=\"text-align: right;\">\n",
       "      <th></th>\n",
       "      <th>count</th>\n",
       "    </tr>\n",
       "  </thead>\n",
       "  <tbody>\n",
       "    <tr>\n",
       "      <th>0</th>\n",
       "      <td>23501</td>\n",
       "    </tr>\n",
       "  </tbody>\n",
       "</table>\n",
       "</div>"
      ],
      "text/plain": [
       "   count\n",
       "0  23501"
      ]
     },
     "execution_count": 5,
     "metadata": {},
     "output_type": "execute_result"
    }
   ],
   "source": [
    "query = f'''SELECT COUNT(DISTINCT id)\n",
    "            FROM employers\n",
    "           \n",
    "        '''\n",
    "df = pd.read_sql(query, connection)\n",
    "df"
   ]
  },
  {
   "cell_type": "markdown",
   "metadata": {},
   "source": [
    "#### 3.3 Определяю кол-во регионов."
   ]
  },
  {
   "cell_type": "code",
   "execution_count": 25,
   "metadata": {},
   "outputs": [
    {
     "name": "stderr",
     "output_type": "stream",
     "text": [
      "C:\\Users\\dasad\\AppData\\Local\\Temp\\ipykernel_12008\\1548808672.py:4: UserWarning: pandas only supports SQLAlchemy connectable (engine/connection) or database string URI or sqlite3 DBAPI2 connection. Other DBAPI2 objects are not tested. Please consider using SQLAlchemy.\n",
      "  df = pd.read_sql(query, connection)\n"
     ]
    },
    {
     "data": {
      "text/html": [
       "<div>\n",
       "<style scoped>\n",
       "    .dataframe tbody tr th:only-of-type {\n",
       "        vertical-align: middle;\n",
       "    }\n",
       "\n",
       "    .dataframe tbody tr th {\n",
       "        vertical-align: top;\n",
       "    }\n",
       "\n",
       "    .dataframe thead th {\n",
       "        text-align: right;\n",
       "    }\n",
       "</style>\n",
       "<table border=\"1\" class=\"dataframe\">\n",
       "  <thead>\n",
       "    <tr style=\"text-align: right;\">\n",
       "      <th></th>\n",
       "      <th>count</th>\n",
       "    </tr>\n",
       "  </thead>\n",
       "  <tbody>\n",
       "    <tr>\n",
       "      <th>0</th>\n",
       "      <td>1362</td>\n",
       "    </tr>\n",
       "  </tbody>\n",
       "</table>\n",
       "</div>"
      ],
      "text/plain": [
       "   count\n",
       "0   1362"
      ]
     },
     "execution_count": 25,
     "metadata": {},
     "output_type": "execute_result"
    }
   ],
   "source": [
    "query = f'''SELECT COUNT(DISTINCT id)\n",
    "            FROM areas\n",
    "        '''\n",
    "df = pd.read_sql(query, connection)\n",
    "df"
   ]
  },
  {
   "cell_type": "markdown",
   "metadata": {},
   "source": [
    "#### 3.4 Определяю кол-во сфер деятельности."
   ]
  },
  {
   "cell_type": "code",
   "execution_count": 4,
   "metadata": {},
   "outputs": [
    {
     "name": "stderr",
     "output_type": "stream",
     "text": [
      "C:\\Users\\dasad\\AppData\\Local\\Temp\\ipykernel_16112\\928691129.py:4: UserWarning: pandas only supports SQLAlchemy connectable (engine/connection) or database string URI or sqlite3 DBAPI2 connection. Other DBAPI2 objects are not tested. Please consider using SQLAlchemy.\n",
      "  df = pd.read_sql(query, connection)\n"
     ]
    },
    {
     "data": {
      "text/html": [
       "<div>\n",
       "<style scoped>\n",
       "    .dataframe tbody tr th:only-of-type {\n",
       "        vertical-align: middle;\n",
       "    }\n",
       "\n",
       "    .dataframe tbody tr th {\n",
       "        vertical-align: top;\n",
       "    }\n",
       "\n",
       "    .dataframe thead th {\n",
       "        text-align: right;\n",
       "    }\n",
       "</style>\n",
       "<table border=\"1\" class=\"dataframe\">\n",
       "  <thead>\n",
       "    <tr style=\"text-align: right;\">\n",
       "      <th></th>\n",
       "      <th>count</th>\n",
       "    </tr>\n",
       "  </thead>\n",
       "  <tbody>\n",
       "    <tr>\n",
       "      <th>0</th>\n",
       "      <td>294</td>\n",
       "    </tr>\n",
       "  </tbody>\n",
       "</table>\n",
       "</div>"
      ],
      "text/plain": [
       "   count\n",
       "0    294"
      ]
     },
     "execution_count": 4,
     "metadata": {},
     "output_type": "execute_result"
    }
   ],
   "source": [
    "query = '''SELECT COUNT(DISTINCT id)\n",
    "            FROM industries\n",
    "        '''\n",
    "df = pd.read_sql(query, connection)\n",
    "df"
   ]
  },
  {
   "cell_type": "markdown",
   "metadata": {},
   "source": [
    "#### Топ 10 самых популярных вакансий."
   ]
  },
  {
   "cell_type": "code",
   "execution_count": 26,
   "metadata": {},
   "outputs": [
    {
     "name": "stderr",
     "output_type": "stream",
     "text": [
      "C:\\Users\\dasad\\AppData\\Local\\Temp\\ipykernel_19784\\2323295121.py:10: UserWarning: pandas only supports SQLAlchemy connectable (engine/connection) or database string URI or sqlite3 DBAPI2 connection. Other DBAPI2 objects are not tested. Please consider using SQLAlchemy.\n",
      "  df = pd.read_sql(query, connection)\n"
     ]
    },
    {
     "data": {
      "text/html": [
       "<div>\n",
       "<style scoped>\n",
       "    .dataframe tbody tr th:only-of-type {\n",
       "        vertical-align: middle;\n",
       "    }\n",
       "\n",
       "    .dataframe tbody tr th {\n",
       "        vertical-align: top;\n",
       "    }\n",
       "\n",
       "    .dataframe thead th {\n",
       "        text-align: right;\n",
       "    }\n",
       "</style>\n",
       "<table border=\"1\" class=\"dataframe\">\n",
       "  <thead>\n",
       "    <tr style=\"text-align: right;\">\n",
       "      <th></th>\n",
       "      <th>count</th>\n",
       "      <th>name</th>\n",
       "    </tr>\n",
       "  </thead>\n",
       "  <tbody>\n",
       "    <tr>\n",
       "      <th>0</th>\n",
       "      <td>1761</td>\n",
       "      <td>Системный администратор</td>\n",
       "    </tr>\n",
       "    <tr>\n",
       "      <th>1</th>\n",
       "      <td>1153</td>\n",
       "      <td>Программист 1С</td>\n",
       "    </tr>\n",
       "    <tr>\n",
       "      <th>2</th>\n",
       "      <td>488</td>\n",
       "      <td>Бизнес-аналитик</td>\n",
       "    </tr>\n",
       "    <tr>\n",
       "      <th>3</th>\n",
       "      <td>457</td>\n",
       "      <td>Специалист технической поддержки</td>\n",
       "    </tr>\n",
       "    <tr>\n",
       "      <th>4</th>\n",
       "      <td>432</td>\n",
       "      <td>Системный аналитик</td>\n",
       "    </tr>\n",
       "    <tr>\n",
       "      <th>5</th>\n",
       "      <td>404</td>\n",
       "      <td>Аналитик</td>\n",
       "    </tr>\n",
       "    <tr>\n",
       "      <th>6</th>\n",
       "      <td>389</td>\n",
       "      <td>Инженер-программист</td>\n",
       "    </tr>\n",
       "    <tr>\n",
       "      <th>7</th>\n",
       "      <td>360</td>\n",
       "      <td>Программист 1C</td>\n",
       "    </tr>\n",
       "    <tr>\n",
       "      <th>8</th>\n",
       "      <td>242</td>\n",
       "      <td>Frontend-разработчик</td>\n",
       "    </tr>\n",
       "    <tr>\n",
       "      <th>9</th>\n",
       "      <td>230</td>\n",
       "      <td>Инженер технической поддержки</td>\n",
       "    </tr>\n",
       "  </tbody>\n",
       "</table>\n",
       "</div>"
      ],
      "text/plain": [
       "   count                              name\n",
       "0   1761           Системный администратор\n",
       "1   1153                    Программист 1С\n",
       "2    488                   Бизнес-аналитик\n",
       "3    457  Специалист технической поддержки\n",
       "4    432                Системный аналитик\n",
       "5    404                          Аналитик\n",
       "6    389               Инженер-программист\n",
       "7    360                    Программист 1C\n",
       "8    242              Frontend-разработчик\n",
       "9    230     Инженер технической поддержки"
      ]
     },
     "execution_count": 26,
     "metadata": {},
     "output_type": "execute_result"
    }
   ],
   "source": [
    "query = '''SELECT\n",
    "               COUNT(name),\n",
    "               name\n",
    "            FROM vacancies \n",
    "            GROUP BY name\n",
    "            ORDER BY COUNT(name) DESC\n",
    "            LIMIT 10\n",
    "        '''\n",
    "        \n",
    "df = pd.read_sql(query, connection)\n",
    "df"
   ]
  },
  {
   "cell_type": "markdown",
   "metadata": {},
   "source": [
    "-----------------\n",
    "#### Выводы по первому блоку заданий.\n",
    "* В целом, суммарное количетсво вакансий не так велико, учиывая то, что они собраны не только на территории России, но и с ближайших стран.\n",
    "* Можно заметить, что работодателей примерно в два раза меньше, чем вакансий, что говорит о том, что в среднем на каждого работодателя приходится по две вакансии.\n",
    "* Большое кол-во регионов, может говорить об открытых вакансиях во многих местах.\n",
    "* Количество сфер деятельности указанных в вакансиях, выглядит не очень большим, но достаточным, чтобы дать понять, что сферы деятельности весьма разнообразны.\n",
    "\n",
    "---------------"
   ]
  },
  {
   "cell_type": "markdown",
   "metadata": {},
   "source": [
    "#### 4.1 Определяю сколько вакансий в кадом регионе и пятёрку лидеров."
   ]
  },
  {
   "cell_type": "code",
   "execution_count": 18,
   "metadata": {},
   "outputs": [
    {
     "name": "stderr",
     "output_type": "stream",
     "text": [
      "C:\\Users\\dasad\\AppData\\Local\\Temp\\ipykernel_11708\\1662414647.py:10: UserWarning: pandas only supports SQLAlchemy connectable (engine/connection) or database string URI or sqlite3 DBAPI2 connection. Other DBAPI2 objects are not tested. Please consider using SQLAlchemy.\n",
      "  df = pd.read_sql(query, connection)\n"
     ]
    },
    {
     "data": {
      "image/png": "[encoded data removed]",
      "text/plain": [
       "<Figure size 500x500 with 1 Axes>"
      ]
     },
     "metadata": {},
     "output_type": "display_data"
    }
   ],
   "source": [
    "\n",
    "query = f'''select \n",
    "                a.name name_city,\n",
    "                COUNT(v.id)\n",
    "            FROM vacancies v \n",
    "            JOIN areas a ON v.area_id = a.id\n",
    "            GROUP BY a.name\n",
    "            ORDER BY count(v.id) desc\n",
    "            LIMIT 5\n",
    "        '''\n",
    "df = pd.read_sql(query, connection)\n",
    "df\n",
    "fig = plt.figure( figsize =(5,5))\n",
    "axes = fig.add_axes([0,0,1,1])\n",
    "axes.pie(\n",
    "    df['count'],\n",
    "    labels=df['name_city'],\n",
    "    autopct='%1f%%'\n",
    ")\n",
    "axes.set_title('Распределение вакансий в топ 5')\n",
    "plt.show()"
   ]
  },
  {
   "cell_type": "markdown",
   "metadata": {},
   "source": [
    "#### 4.2 Определяю у какого кол-ва вакансий заполнено хотя бы одно поля о нижней или верхней границе зарплаты."
   ]
  },
  {
   "cell_type": "code",
   "execution_count": 9,
   "metadata": {},
   "outputs": [
    {
     "name": "stderr",
     "output_type": "stream",
     "text": [
      "C:\\Users\\dasad\\AppData\\Local\\Temp\\ipykernel_16112\\169100744.py:7: UserWarning: pandas only supports SQLAlchemy connectable (engine/connection) or database string URI or sqlite3 DBAPI2 connection. Other DBAPI2 objects are not tested. Please consider using SQLAlchemy.\n",
      "  df = pd.read_sql(query, connection)\n"
     ]
    },
    {
     "data": {
      "text/html": [
       "<div>\n",
       "<style scoped>\n",
       "    .dataframe tbody tr th:only-of-type {\n",
       "        vertical-align: middle;\n",
       "    }\n",
       "\n",
       "    .dataframe tbody tr th {\n",
       "        vertical-align: top;\n",
       "    }\n",
       "\n",
       "    .dataframe thead th {\n",
       "        text-align: right;\n",
       "    }\n",
       "</style>\n",
       "<table border=\"1\" class=\"dataframe\">\n",
       "  <thead>\n",
       "    <tr style=\"text-align: right;\">\n",
       "      <th></th>\n",
       "      <th>upper_bound</th>\n",
       "      <th>lower_bound</th>\n",
       "    </tr>\n",
       "  </thead>\n",
       "  <tbody>\n",
       "    <tr>\n",
       "      <th>0</th>\n",
       "      <td>64000.0</td>\n",
       "      <td>NaN</td>\n",
       "    </tr>\n",
       "    <tr>\n",
       "      <th>1</th>\n",
       "      <td>15000.0</td>\n",
       "      <td>NaN</td>\n",
       "    </tr>\n",
       "    <tr>\n",
       "      <th>2</th>\n",
       "      <td>40000.0</td>\n",
       "      <td>60000.0</td>\n",
       "    </tr>\n",
       "    <tr>\n",
       "      <th>3</th>\n",
       "      <td>50000.0</td>\n",
       "      <td>NaN</td>\n",
       "    </tr>\n",
       "    <tr>\n",
       "      <th>4</th>\n",
       "      <td>150000.0</td>\n",
       "      <td>NaN</td>\n",
       "    </tr>\n",
       "    <tr>\n",
       "      <th>...</th>\n",
       "      <td>...</td>\n",
       "      <td>...</td>\n",
       "    </tr>\n",
       "    <tr>\n",
       "      <th>24068</th>\n",
       "      <td>50000.0</td>\n",
       "      <td>NaN</td>\n",
       "    </tr>\n",
       "    <tr>\n",
       "      <th>24069</th>\n",
       "      <td>102500.0</td>\n",
       "      <td>NaN</td>\n",
       "    </tr>\n",
       "    <tr>\n",
       "      <th>24070</th>\n",
       "      <td>40000.0</td>\n",
       "      <td>78000.0</td>\n",
       "    </tr>\n",
       "    <tr>\n",
       "      <th>24071</th>\n",
       "      <td>60000.0</td>\n",
       "      <td>NaN</td>\n",
       "    </tr>\n",
       "    <tr>\n",
       "      <th>24072</th>\n",
       "      <td>146456.0</td>\n",
       "      <td>244094.0</td>\n",
       "    </tr>\n",
       "  </tbody>\n",
       "</table>\n",
       "<p>24073 rows × 2 columns</p>\n",
       "</div>"
      ],
      "text/plain": [
       "       upper_bound  lower_bound\n",
       "0          64000.0          NaN\n",
       "1          15000.0          NaN\n",
       "2          40000.0      60000.0\n",
       "3          50000.0          NaN\n",
       "4         150000.0          NaN\n",
       "...            ...          ...\n",
       "24068      50000.0          NaN\n",
       "24069     102500.0          NaN\n",
       "24070      40000.0      78000.0\n",
       "24071      60000.0          NaN\n",
       "24072     146456.0     244094.0\n",
       "\n",
       "[24073 rows x 2 columns]"
      ]
     },
     "execution_count": 9,
     "metadata": {},
     "output_type": "execute_result"
    }
   ],
   "source": [
    "query = f'''SELECT \n",
    "                salary_from upper_bound, \n",
    "                salary_to lower_bound\n",
    "            FROM vacancies v \n",
    "            WHERE salary_from IS NOT NULL OR salary_to IS NOT NULL  \n",
    "        '''\n",
    "df = pd.read_sql(query, connection)\n",
    "df"
   ]
  },
  {
   "cell_type": "markdown",
   "metadata": {},
   "source": [
    "#### 4.2* Определяю, какую границу зарплаты указывают чаще. (дополнительно)"
   ]
  },
  {
   "cell_type": "code",
   "execution_count": 30,
   "metadata": {},
   "outputs": [
    {
     "name": "stderr",
     "output_type": "stream",
     "text": [
      "C:\\Users\\dasad\\AppData\\Local\\Temp\\ipykernel_11708\\1723030994.py:7: UserWarning: pandas only supports SQLAlchemy connectable (engine/connection) or database string URI or sqlite3 DBAPI2 connection. Other DBAPI2 objects are not tested. Please consider using SQLAlchemy.\n",
      "  df = pd.read_sql(query, connection)\n"
     ]
    },
    {
     "data": {
      "text/html": [
       "<div>\n",
       "<style scoped>\n",
       "    .dataframe tbody tr th:only-of-type {\n",
       "        vertical-align: middle;\n",
       "    }\n",
       "\n",
       "    .dataframe tbody tr th {\n",
       "        vertical-align: top;\n",
       "    }\n",
       "\n",
       "    .dataframe thead th {\n",
       "        text-align: right;\n",
       "    }\n",
       "</style>\n",
       "<table border=\"1\" class=\"dataframe\">\n",
       "  <thead>\n",
       "    <tr style=\"text-align: right;\">\n",
       "      <th></th>\n",
       "      <th>count_lower_bound</th>\n",
       "      <th>count_upper_bound</th>\n",
       "    </tr>\n",
       "  </thead>\n",
       "  <tbody>\n",
       "    <tr>\n",
       "      <th>0</th>\n",
       "      <td>2588</td>\n",
       "      <td>11383</td>\n",
       "    </tr>\n",
       "  </tbody>\n",
       "</table>\n",
       "</div>"
      ],
      "text/plain": [
       "   count_lower_bound  count_upper_bound\n",
       "0               2588              11383"
      ]
     },
     "execution_count": 30,
     "metadata": {},
     "output_type": "execute_result"
    }
   ],
   "source": [
    "query = ''' SELECT\n",
    "                COUNT(v.salary_to) count_lower_bound,\n",
    "                COUNT(v.salary_from) count_upper_bound\n",
    "            FROM vacancies v\n",
    "            WHERE v.salary_from IS NULL OR v.salary_to IS NULL \n",
    "        '''\n",
    "df = pd.read_sql(query, connection)\n",
    "df"
   ]
  },
  {
   "cell_type": "markdown",
   "metadata": {},
   "source": [
    "#### 4.3 Определяю среднее значение для нижней и верхней границы зарплаты с округлением до целого числа."
   ]
  },
  {
   "cell_type": "code",
   "execution_count": 8,
   "metadata": {},
   "outputs": [
    {
     "name": "stderr",
     "output_type": "stream",
     "text": [
      "C:\\Users\\dasad\\AppData\\Local\\Temp\\ipykernel_16112\\1380298578.py:6: UserWarning: pandas only supports SQLAlchemy connectable (engine/connection) or database string URI or sqlite3 DBAPI2 connection. Other DBAPI2 objects are not tested. Please consider using SQLAlchemy.\n",
      "  df = pd.read_sql(query, connection)\n"
     ]
    },
    {
     "data": {
      "text/html": [
       "<div>\n",
       "<style scoped>\n",
       "    .dataframe tbody tr th:only-of-type {\n",
       "        vertical-align: middle;\n",
       "    }\n",
       "\n",
       "    .dataframe tbody tr th {\n",
       "        vertical-align: top;\n",
       "    }\n",
       "\n",
       "    .dataframe thead th {\n",
       "        text-align: right;\n",
       "    }\n",
       "</style>\n",
       "<table border=\"1\" class=\"dataframe\">\n",
       "  <thead>\n",
       "    <tr style=\"text-align: right;\">\n",
       "      <th></th>\n",
       "      <th>lower_bound</th>\n",
       "      <th>upper_bound</th>\n",
       "    </tr>\n",
       "  </thead>\n",
       "  <tbody>\n",
       "    <tr>\n",
       "      <th>0</th>\n",
       "      <td>71065.0</td>\n",
       "      <td>110537.0</td>\n",
       "    </tr>\n",
       "  </tbody>\n",
       "</table>\n",
       "</div>"
      ],
      "text/plain": [
       "   lower_bound  upper_bound\n",
       "0      71065.0     110537.0"
      ]
     },
     "execution_count": 8,
     "metadata": {},
     "output_type": "execute_result"
    }
   ],
   "source": [
    "query = f'''SELECT\n",
    "                ROUND(AVG(v.salary_from),0) lower_bound,\n",
    "                ROUND(AVG(v.salary_to),0) upper_bound\n",
    "            FROM vacancies v\n",
    "        '''\n",
    "df = pd.read_sql(query, connection)\n",
    "df"
   ]
  },
  {
   "cell_type": "markdown",
   "metadata": {},
   "source": [
    "#### 4.4 Определяю какое сочетание типа рабочего графика и типа трудоустройства самое популярное."
   ]
  },
  {
   "cell_type": "code",
   "execution_count": 19,
   "metadata": {},
   "outputs": [
    {
     "name": "stderr",
     "output_type": "stream",
     "text": [
      "C:\\Users\\dasad\\AppData\\Local\\Temp\\ipykernel_11708\\4000681153.py:10: UserWarning: pandas only supports SQLAlchemy connectable (engine/connection) or database string URI or sqlite3 DBAPI2 connection. Other DBAPI2 objects are not tested. Please consider using SQLAlchemy.\n",
      "  df = pd.read_sql(query, connection)\n",
      "c:\\Users\\dasad\\AppData\\Local\\Programs\\Python\\Python311\\Lib\\site-packages\\seaborn\\_oldcore.py:1498: FutureWarning: is_categorical_dtype is deprecated and will be removed in a future version. Use isinstance(dtype, CategoricalDtype) instead\n",
      "  if pd.api.types.is_categorical_dtype(vector):\n",
      "c:\\Users\\dasad\\AppData\\Local\\Programs\\Python\\Python311\\Lib\\site-packages\\seaborn\\_oldcore.py:1498: FutureWarning: is_categorical_dtype is deprecated and will be removed in a future version. Use isinstance(dtype, CategoricalDtype) instead\n",
      "  if pd.api.types.is_categorical_dtype(vector):\n",
      "c:\\Users\\dasad\\AppData\\Local\\Programs\\Python\\Python311\\Lib\\site-packages\\seaborn\\_oldcore.py:1498: FutureWarning: is_categorical_dtype is deprecated and will be removed in a future version. Use isinstance(dtype, CategoricalDtype) instead\n",
      "  if pd.api.types.is_categorical_dtype(vector):\n"
     ]
    },
    {
     "data": {
      "image/png": "[encoded data removed]",
      "text/plain": [
       "<Figure size 640x480 with 1 Axes>"
      ]
     },
     "metadata": {},
     "output_type": "display_data"
    }
   ],
   "source": [
    "query = f'''SELECT\n",
    "                COUNT(*),\n",
    "                schedule,\n",
    "                employment\n",
    "            FROM vacancies\n",
    "            GROUP BY schedule, employment\n",
    "            ORDER BY COUNT(*) DESC\n",
    "            LIMIT 3\n",
    "        '''\n",
    "df = pd.read_sql(query, connection)\n",
    "df_1 = df.copy()\n",
    "ax = sns.barplot(df_1, x ='schedule', y='count')\n",
    "ax.set_title('Соотношение рабочего графика и типа трудоустройства')\n",
    "ax.set_xlabel('Тип рабочего графика')\n",
    "ax.set_ylabel('Кол-во вакансий')\n",
    "plt.show()"
   ]
  },
  {
   "cell_type": "markdown",
   "metadata": {},
   "source": [
    "#### 4.4* Определяю какое сочетание типа рабочего графика и типа трудоустройства самое популярное (дополнительное)."
   ]
  },
  {
   "cell_type": "code",
   "execution_count": 19,
   "metadata": {},
   "outputs": [
    {
     "name": "stderr",
     "output_type": "stream",
     "text": [
      "C:\\Users\\dasad\\AppData\\Local\\Temp\\ipykernel_19784\\3297782384.py:13: UserWarning: pandas only supports SQLAlchemy connectable (engine/connection) or database string URI or sqlite3 DBAPI2 connection. Other DBAPI2 objects are not tested. Please consider using SQLAlchemy.\n",
      "  df = pd.read_sql(query, connection)\n"
     ]
    },
    {
     "data": {
      "text/html": [
       "<div>\n",
       "<style scoped>\n",
       "    .dataframe tbody tr th:only-of-type {\n",
       "        vertical-align: middle;\n",
       "    }\n",
       "\n",
       "    .dataframe tbody tr th {\n",
       "        vertical-align: top;\n",
       "    }\n",
       "\n",
       "    .dataframe thead th {\n",
       "        text-align: right;\n",
       "    }\n",
       "</style>\n",
       "<table border=\"1\" class=\"dataframe\">\n",
       "  <thead>\n",
       "    <tr style=\"text-align: right;\">\n",
       "      <th></th>\n",
       "      <th>count</th>\n",
       "      <th>avg_upper_bound</th>\n",
       "      <th>avg_lower_bound</th>\n",
       "      <th>type_work</th>\n",
       "      <th>type_of_emp</th>\n",
       "    </tr>\n",
       "  </thead>\n",
       "  <tbody>\n",
       "    <tr>\n",
       "      <th>0</th>\n",
       "      <td>1312</td>\n",
       "      <td>22499.802235</td>\n",
       "      <td>81262.356522</td>\n",
       "      <td>Удаленная работа</td>\n",
       "      <td>Частичная занятость</td>\n",
       "    </tr>\n",
       "    <tr>\n",
       "      <th>1</th>\n",
       "      <td>569</td>\n",
       "      <td>29545.661088</td>\n",
       "      <td>48637.397590</td>\n",
       "      <td>Полный день</td>\n",
       "      <td>Стажировка</td>\n",
       "    </tr>\n",
       "    <tr>\n",
       "      <th>2</th>\n",
       "      <td>312</td>\n",
       "      <td>37350.833333</td>\n",
       "      <td>55199.260000</td>\n",
       "      <td>Гибкий график</td>\n",
       "      <td>Частичная занятость</td>\n",
       "    </tr>\n",
       "    <tr>\n",
       "      <th>3</th>\n",
       "      <td>347</td>\n",
       "      <td>39506.943503</td>\n",
       "      <td>69030.953704</td>\n",
       "      <td>Полный день</td>\n",
       "      <td>Частичная занятость</td>\n",
       "    </tr>\n",
       "    <tr>\n",
       "      <th>4</th>\n",
       "      <td>940</td>\n",
       "      <td>43501.966361</td>\n",
       "      <td>51023.082822</td>\n",
       "      <td>Сменный график</td>\n",
       "      <td>Полная занятость</td>\n",
       "    </tr>\n",
       "    <tr>\n",
       "      <th>5</th>\n",
       "      <td>35367</td>\n",
       "      <td>69165.132002</td>\n",
       "      <td>101676.482475</td>\n",
       "      <td>Полный день</td>\n",
       "      <td>Полная занятость</td>\n",
       "    </tr>\n",
       "    <tr>\n",
       "      <th>6</th>\n",
       "      <td>1593</td>\n",
       "      <td>94724.889643</td>\n",
       "      <td>156356.814536</td>\n",
       "      <td>Гибкий график</td>\n",
       "      <td>Полная занятость</td>\n",
       "    </tr>\n",
       "    <tr>\n",
       "      <th>7</th>\n",
       "      <td>7802</td>\n",
       "      <td>100651.860999</td>\n",
       "      <td>157313.758904</td>\n",
       "      <td>Удаленная работа</td>\n",
       "      <td>Полная занятость</td>\n",
       "    </tr>\n",
       "    <tr>\n",
       "      <th>8</th>\n",
       "      <td>367</td>\n",
       "      <td>106952.864583</td>\n",
       "      <td>139903.900000</td>\n",
       "      <td>Вахтовый метод</td>\n",
       "      <td>Полная занятость</td>\n",
       "    </tr>\n",
       "  </tbody>\n",
       "</table>\n",
       "</div>"
      ],
      "text/plain": [
       "   count  avg_upper_bound  avg_lower_bound         type_work  \\\n",
       "0   1312     22499.802235     81262.356522  Удаленная работа   \n",
       "1    569     29545.661088     48637.397590       Полный день   \n",
       "2    312     37350.833333     55199.260000     Гибкий график   \n",
       "3    347     39506.943503     69030.953704       Полный день   \n",
       "4    940     43501.966361     51023.082822    Сменный график   \n",
       "5  35367     69165.132002    101676.482475       Полный день   \n",
       "6   1593     94724.889643    156356.814536     Гибкий график   \n",
       "7   7802    100651.860999    157313.758904  Удаленная работа   \n",
       "8    367    106952.864583    139903.900000    Вахтовый метод   \n",
       "\n",
       "           type_of_emp  \n",
       "0  Частичная занятость  \n",
       "1           Стажировка  \n",
       "2  Частичная занятость  \n",
       "3  Частичная занятость  \n",
       "4     Полная занятость  \n",
       "5     Полная занятость  \n",
       "6     Полная занятость  \n",
       "7     Полная занятость  \n",
       "8     Полная занятость  "
      ]
     },
     "execution_count": 19,
     "metadata": {},
     "output_type": "execute_result"
    }
   ],
   "source": [
    "query = f'''SELECT\n",
    "                COUNT(*),\n",
    "                AVG(salary_from) avg_upper_bound,\n",
    "                AVG(salary_to) avg_lower_bound,\n",
    "                schedule type_work,\n",
    "                employment type_of_emp\n",
    "            FROM vacancies\n",
    "            GROUP BY schedule, employment\n",
    "            HAVING COUNT(*) > 200\n",
    "            ORDER BY avg_upper_bound, avg_lower_bound\n",
    "            \n",
    "        '''\n",
    "df = pd.read_sql(query, connection)\n",
    "df\n"
   ]
  },
  {
   "cell_type": "markdown",
   "metadata": {},
   "source": [
    "#### 4.5 Распределение кол-ва вакансий по типу занятости в порядке возрастания."
   ]
  },
  {
   "cell_type": "code",
   "execution_count": 28,
   "metadata": {},
   "outputs": [
    {
     "name": "stderr",
     "output_type": "stream",
     "text": [
      "C:\\Users\\dasad\\AppData\\Local\\Temp\\ipykernel_11708\\1867814562.py:8: UserWarning: pandas only supports SQLAlchemy connectable (engine/connection) or database string URI or sqlite3 DBAPI2 connection. Other DBAPI2 objects are not tested. Please consider using SQLAlchemy.\n",
      "  df = pd.read_sql(query, connection)\n"
     ]
    },
    {
     "data": {
      "image/png": "[encoded data removed]",
      "text/plain": [
       "<Figure size 500x500 with 1 Axes>"
      ]
     },
     "metadata": {},
     "output_type": "display_data"
    }
   ],
   "source": [
    "query = f'''SELECT \n",
    "                COUNT(*),\n",
    "                experience\n",
    "            FROM vacancies \n",
    "            GROUP BY experience\n",
    "            ORDER BY COUNT(*) ASC\n",
    "        '''\n",
    "df = pd.read_sql(query, connection)\n",
    "df\n",
    "fig = plt.figure( figsize =(5,5))\n",
    "axes = fig.add_axes([0,0,1,1])\n",
    "axes.pie(\n",
    "    df['count'],\n",
    "    labels=df['experience'],\n",
    "    autopct='%1f%%'   \n",
    ")\n",
    "axes.set_title('Распределение вакансий по типу занятости')\n",
    "plt.show()          "
   ]
  },
  {
   "cell_type": "markdown",
   "metadata": {},
   "source": [
    "------------------------\n",
    "#### Выводы по второму блоку заданий.\n",
    "* Можно отметить, что самая большая концентрация вакансий в крупных городах (столицах), естественно, что это связано с тем, что в городах больше людей и компаний.\n",
    "* Люди намного чаще отмечают нижнюю границу зарплаты, нежели верхнюю. Возможно связано с тем, что люди не хотят отпугивать вероятного работодателя слишком высокой желаемой зарплатой, т.к. он может в итоге отказаться в пользу более \"скромного\" кандидата. Возможно, люди не имеют полного представления о том, какую максимальную зарплату можно указывать в их случае.\n",
    "* Разница между средним увронем нижней границы и верхней границы составлят примено 40'000, что тоже говорит о том, что люди называют зарплату сущесвтенно скромнее.\n",
    "* Можно уверенно, сказать, что большее кол-во вакансий связано с \"полным рабочим днём\", примерно в три раза ниже \"удаённая работа\" и совсем немного с гибким графиком. Возможно связано с тем, что полный рабочий день выше оплачивается.\n",
    "* Но, стоит отметить, что исходя из графика 4.4* \"удалённая работа\" с \"полной зантяостью\" в среднем оплачивается выше. Ниже всех оплаичвается \"гибкий график\" - \"частичная занятость\".\n",
    "* Из графика 4.5 можно сдлеать несколько выводов:\n",
    "   1. Больше всего вакансий с опытом работы от 1 до 3 лет, около 53%. Возможно это связано с тем, что таких кандидатов довольно много и человек уже обладает минимальным опытом работы для более менее эффективной работы. \n",
    "   2. Примерно в два раза меньше вакансий с опытом работы от 3-6 лет, окло 29%. Это может быть связано с тем, что многие сотрудники остаются на рабочем месте и делают карьеру и не стремяться менять место.\n",
    "   3. Меньше всего вакансий с опытом работы от 6 лет, около 2.7%. Это может быть связано с тем, что сотрудники с таким опытом работы меняют место не часто, продолжая движение по карьерной лестнице в итоге они начинают занимать высокие должности и не стремяться менять место.\n",
    "   4. Вакансий, которые ищут сотрудников без опыта 14.5%. Помимо того, что это может быть связано с тем, что какие-то компании готовы брать на работу сотрудников без опыта, но также и с тем, что многие виды деятельности не требуют никакого опыта, в какой бы момент не захотел делать данную рабоут(уборщик, официано и т.д.)\n",
    "\n",
    "---------------------\n"
   ]
  },
  {
   "cell_type": "markdown",
   "metadata": {},
   "source": [
    "#### 5.1 Определяю какие работодатели в первой пятёрке по количеству вакансий (интересует первое и пятое место)."
   ]
  },
  {
   "cell_type": "code",
   "execution_count": 20,
   "metadata": {},
   "outputs": [
    {
     "name": "stderr",
     "output_type": "stream",
     "text": [
      "C:\\Users\\dasad\\AppData\\Local\\Temp\\ipykernel_19784\\1462487746.py:10: UserWarning: pandas only supports SQLAlchemy connectable (engine/connection) or database string URI or sqlite3 DBAPI2 connection. Other DBAPI2 objects are not tested. Please consider using SQLAlchemy.\n",
      "  df = pd.read_sql(query,connection)\n"
     ]
    },
    {
     "data": {
      "image/png": "[encoded data removed]",
      "text/plain": [
       "<Figure size 500x500 with 1 Axes>"
      ]
     },
     "metadata": {},
     "output_type": "display_data"
    }
   ],
   "source": [
    "query = f'''SELECT\n",
    "                COUNT(*),\n",
    "                e.name\n",
    "            FROM vacancies v\n",
    "            JOIN employers e ON v.employer_id = e.id\n",
    "            GROUP BY e.name\n",
    "            ORDER BY COUNT(*) DESC\n",
    "            LIMIT 5\n",
    "         '''\n",
    "df = pd.read_sql(query,connection)\n",
    "df\n",
    "fig = plt.figure( figsize =(5,5))\n",
    "axes = fig.add_axes([0,0,1,1])\n",
    "axes.pie(\n",
    "    df['count'],\n",
    "    labels=df['name'],\n",
    "    autopct='%1f%%'   \n",
    ")\n",
    "axes.set_title('Распределение вакансий по типу занятости')\n",
    "plt.show() "
   ]
  },
  {
   "cell_type": "markdown",
   "metadata": {},
   "source": [
    "#### 5.2 Запрос, который для каждого региона выведет кол-во вакансий и кол-во работодателей. \n",
    "##### Необходимо определить регион в котором нет вакансий, но при этом самое большое кол-во работодателей."
   ]
  },
  {
   "cell_type": "code",
   "execution_count": 14,
   "metadata": {},
   "outputs": [
    {
     "name": "stderr",
     "output_type": "stream",
     "text": [
      "C:\\Users\\dasad\\AppData\\Local\\Temp\\ipykernel_16112\\267207674.py:13: UserWarning: pandas only supports SQLAlchemy connectable (engine/connection) or database string URI or sqlite3 DBAPI2 connection. Other DBAPI2 objects are not tested. Please consider using SQLAlchemy.\n",
      "  df = pd.read_sql(query, connection)\n"
     ]
    },
    {
     "data": {
      "text/html": [
       "<div>\n",
       "<style scoped>\n",
       "    .dataframe tbody tr th:only-of-type {\n",
       "        vertical-align: middle;\n",
       "    }\n",
       "\n",
       "    .dataframe tbody tr th {\n",
       "        vertical-align: top;\n",
       "    }\n",
       "\n",
       "    .dataframe thead th {\n",
       "        text-align: right;\n",
       "    }\n",
       "</style>\n",
       "<table border=\"1\" class=\"dataframe\">\n",
       "  <thead>\n",
       "    <tr style=\"text-align: right;\">\n",
       "      <th></th>\n",
       "      <th>name</th>\n",
       "      <th>count_emp</th>\n",
       "      <th>count_vac</th>\n",
       "    </tr>\n",
       "  </thead>\n",
       "  <tbody>\n",
       "    <tr>\n",
       "      <th>0</th>\n",
       "      <td>Россия</td>\n",
       "      <td>410</td>\n",
       "      <td>0</td>\n",
       "    </tr>\n",
       "  </tbody>\n",
       "</table>\n",
       "</div>"
      ],
      "text/plain": [
       "     name  count_emp  count_vac\n",
       "0  Россия        410          0"
      ]
     },
     "execution_count": 14,
     "metadata": {},
     "output_type": "execute_result"
    }
   ],
   "source": [
    "query = f'''select \n",
    "                a.name,\n",
    "                COUNT(distinct e.id) count_emp,\n",
    "                COUNT(distinct v.id) count_vac\n",
    "            FROM areas a\n",
    "            LEFT JOIN employers e ON a.id = e.area\n",
    "            LEFT JOIN vacancies v ON v.area_id = a.id\n",
    "            WHERE v.id IS NULL\n",
    "            GROUP BY a.id\n",
    "            ORDER BY count_emp DESC  \n",
    "            LIMIT 1  \n",
    "        '''\n",
    "df = pd.read_sql(query, connection)\n",
    "df"
   ]
  },
  {
   "cell_type": "markdown",
   "metadata": {},
   "source": [
    "#### 5.3 Расчёт для каждого работодателя кол-ва регионов, где он публикует свои вакансии."
   ]
  },
  {
   "cell_type": "code",
   "execution_count": 15,
   "metadata": {},
   "outputs": [
    {
     "name": "stderr",
     "output_type": "stream",
     "text": [
      "C:\\Users\\dasad\\AppData\\Local\\Temp\\ipykernel_16112\\3923480570.py:9: UserWarning: pandas only supports SQLAlchemy connectable (engine/connection) or database string URI or sqlite3 DBAPI2 connection. Other DBAPI2 objects are not tested. Please consider using SQLAlchemy.\n",
      "  df = pd.read_sql(query, connection)\n"
     ]
    },
    {
     "data": {
      "text/html": [
       "<div>\n",
       "<style scoped>\n",
       "    .dataframe tbody tr th:only-of-type {\n",
       "        vertical-align: middle;\n",
       "    }\n",
       "\n",
       "    .dataframe tbody tr th {\n",
       "        vertical-align: top;\n",
       "    }\n",
       "\n",
       "    .dataframe thead th {\n",
       "        text-align: right;\n",
       "    }\n",
       "</style>\n",
       "<table border=\"1\" class=\"dataframe\">\n",
       "  <thead>\n",
       "    <tr style=\"text-align: right;\">\n",
       "      <th></th>\n",
       "      <th>count_areas</th>\n",
       "      <th>employer_id</th>\n",
       "    </tr>\n",
       "  </thead>\n",
       "  <tbody>\n",
       "    <tr>\n",
       "      <th>0</th>\n",
       "      <td>181</td>\n",
       "      <td>1740</td>\n",
       "    </tr>\n",
       "  </tbody>\n",
       "</table>\n",
       "</div>"
      ],
      "text/plain": [
       "   count_areas  employer_id\n",
       "0          181         1740"
      ]
     },
     "execution_count": 15,
     "metadata": {},
     "output_type": "execute_result"
    }
   ],
   "source": [
    "query = f'''SELECT\n",
    "                COUNT(DISTINCT area_id) count_areas,\n",
    "                employer_id\n",
    "            FROM vacancies\n",
    "            GROUP BY employer_id\n",
    "            ORDER BY COUNT(area_id) DESC\n",
    "            LIMIT 1\n",
    "        '''\n",
    "df = pd.read_sql(query, connection)\n",
    "df"
   ]
  },
  {
   "cell_type": "markdown",
   "metadata": {},
   "source": [
    "#### 5.4 Подсчёт работодателей у которых не указана сфера дефтельности."
   ]
  },
  {
   "cell_type": "code",
   "execution_count": 37,
   "metadata": {},
   "outputs": [
    {
     "name": "stderr",
     "output_type": "stream",
     "text": [
      "C:\\Users\\dasad\\AppData\\Local\\Temp\\ipykernel_12008\\1336012139.py:7: UserWarning: pandas only supports SQLAlchemy connectable (engine/connection) or database string URI or sqlite3 DBAPI2 connection. Other DBAPI2 objects are not tested. Please consider using SQLAlchemy.\n",
      "  df = pd.read_sql(query, connection)\n"
     ]
    },
    {
     "data": {
      "text/html": [
       "<div>\n",
       "<style scoped>\n",
       "    .dataframe tbody tr th:only-of-type {\n",
       "        vertical-align: middle;\n",
       "    }\n",
       "\n",
       "    .dataframe tbody tr th {\n",
       "        vertical-align: top;\n",
       "    }\n",
       "\n",
       "    .dataframe thead th {\n",
       "        text-align: right;\n",
       "    }\n",
       "</style>\n",
       "<table border=\"1\" class=\"dataframe\">\n",
       "  <thead>\n",
       "    <tr style=\"text-align: right;\">\n",
       "      <th></th>\n",
       "      <th>count</th>\n",
       "    </tr>\n",
       "  </thead>\n",
       "  <tbody>\n",
       "    <tr>\n",
       "      <th>0</th>\n",
       "      <td>8419</td>\n",
       "    </tr>\n",
       "  </tbody>\n",
       "</table>\n",
       "</div>"
      ],
      "text/plain": [
       "   count\n",
       "0   8419"
      ]
     },
     "execution_count": 37,
     "metadata": {},
     "output_type": "execute_result"
    }
   ],
   "source": [
    "query = f'''SELECT\n",
    "                COUNT(e.id)\n",
    "            FROM employers e\n",
    "            LEFT JOIN employers_industries ei ON e.id = ei.employer_id\n",
    "            WHERE ei.industry_id IS NULL\n",
    "            '''\n",
    "df = pd.read_sql(query, connection)\n",
    "df"
   ]
  },
  {
   "cell_type": "markdown",
   "metadata": {},
   "source": [
    "#### 5.5 Определяю название компании, находящиеся на третьем месте по алфавитной сортировке у которой указано четыре сферы деятельности."
   ]
  },
  {
   "cell_type": "code",
   "execution_count": 16,
   "metadata": {},
   "outputs": [
    {
     "name": "stderr",
     "output_type": "stream",
     "text": [
      "C:\\Users\\dasad\\AppData\\Local\\Temp\\ipykernel_16112\\3254038397.py:12: UserWarning: pandas only supports SQLAlchemy connectable (engine/connection) or database string URI or sqlite3 DBAPI2 connection. Other DBAPI2 objects are not tested. Please consider using SQLAlchemy.\n",
      "  df = pd.read_sql(query, connection)\n"
     ]
    },
    {
     "data": {
      "text/html": [
       "<div>\n",
       "<style scoped>\n",
       "    .dataframe tbody tr th:only-of-type {\n",
       "        vertical-align: middle;\n",
       "    }\n",
       "\n",
       "    .dataframe tbody tr th {\n",
       "        vertical-align: top;\n",
       "    }\n",
       "\n",
       "    .dataframe thead th {\n",
       "        text-align: right;\n",
       "    }\n",
       "</style>\n",
       "<table border=\"1\" class=\"dataframe\">\n",
       "  <thead>\n",
       "    <tr style=\"text-align: right;\">\n",
       "      <th></th>\n",
       "      <th>name_employment</th>\n",
       "      <th>count_indusrties</th>\n",
       "    </tr>\n",
       "  </thead>\n",
       "  <tbody>\n",
       "    <tr>\n",
       "      <th>0</th>\n",
       "      <td>2ГИС</td>\n",
       "      <td>4</td>\n",
       "    </tr>\n",
       "  </tbody>\n",
       "</table>\n",
       "</div>"
      ],
      "text/plain": [
       "  name_employment  count_indusrties\n",
       "0            2ГИС                 4"
      ]
     },
     "execution_count": 16,
     "metadata": {},
     "output_type": "execute_result"
    }
   ],
   "source": [
    "query = f'''SELECT\n",
    "                e.name name_employment,\n",
    "                COUNT(ei.industry_id) count_indusrties\n",
    "            FROM employers e\n",
    "            LEFT JOIN employers_industries ei ON e.id = ei.employer_id\n",
    "            GROUP BY e.name\n",
    "            HAVING COUNT(ei.industry_id) = 4\n",
    "            ORDER BY e.name ASC   \n",
    "            OFFSET 2\n",
    "            LIMIT 1 \n",
    "         '''\n",
    "df = pd.read_sql(query, connection)\n",
    "df"
   ]
  },
  {
   "cell_type": "markdown",
   "metadata": {},
   "source": [
    "#### 5.6 Определяю у какого кол-ва компаний указана сфера деятельности \"Разработка программного обеспечения\".\n"
   ]
  },
  {
   "cell_type": "code",
   "execution_count": 17,
   "metadata": {},
   "outputs": [
    {
     "name": "stderr",
     "output_type": "stream",
     "text": [
      "C:\\Users\\dasad\\AppData\\Local\\Temp\\ipykernel_16112\\526981163.py:10: UserWarning: pandas only supports SQLAlchemy connectable (engine/connection) or database string URI or sqlite3 DBAPI2 connection. Other DBAPI2 objects are not tested. Please consider using SQLAlchemy.\n",
      "  df = pd.read_sql(query, connection)\n"
     ]
    },
    {
     "data": {
      "text/html": [
       "<div>\n",
       "<style scoped>\n",
       "    .dataframe tbody tr th:only-of-type {\n",
       "        vertical-align: middle;\n",
       "    }\n",
       "\n",
       "    .dataframe tbody tr th {\n",
       "        vertical-align: top;\n",
       "    }\n",
       "\n",
       "    .dataframe thead th {\n",
       "        text-align: right;\n",
       "    }\n",
       "</style>\n",
       "<table border=\"1\" class=\"dataframe\">\n",
       "  <thead>\n",
       "    <tr style=\"text-align: right;\">\n",
       "      <th></th>\n",
       "      <th>количество_работодателей</th>\n",
       "      <th>название_сферы_деятельности</th>\n",
       "    </tr>\n",
       "  </thead>\n",
       "  <tbody>\n",
       "    <tr>\n",
       "      <th>0</th>\n",
       "      <td>3553</td>\n",
       "      <td>Разработка программного обеспечения</td>\n",
       "    </tr>\n",
       "  </tbody>\n",
       "</table>\n",
       "</div>"
      ],
      "text/plain": [
       "   количество_работодателей          название_сферы_деятельности\n",
       "0                      3553  Разработка программного обеспечения"
      ]
     },
     "execution_count": 17,
     "metadata": {},
     "output_type": "execute_result"
    }
   ],
   "source": [
    "query = f'''SELECT\n",
    "                COUNT(DISTINCT e.id) количество_работодателей,\n",
    "                i.name название_сферы_деятельности\n",
    "            FROM employers_industries ei\n",
    "            JOIN employers e ON ei.employer_id = e.id\n",
    "            JOIN industries i ON ei.industry_id = i.id\n",
    "            GROUP BY i.name\n",
    "            HAVING i.name = 'Разработка программного обеспечения'\n",
    "         '''\n",
    "df = pd.read_sql(query, connection)\n",
    "df"
   ]
  },
  {
   "cell_type": "markdown",
   "metadata": {},
   "source": [
    "#### 5.7 Определяю в каких регионах \"Яндекс\" разместил объявления и сколько."
   ]
  },
  {
   "cell_type": "code",
   "execution_count": 18,
   "metadata": {},
   "outputs": [
    {
     "name": "stderr",
     "output_type": "stream",
     "text": [
      "C:\\Users\\dasad\\AppData\\Local\\Temp\\ipykernel_16112\\1981025628.py:27: UserWarning: pandas only supports SQLAlchemy connectable (engine/connection) or database string URI or sqlite3 DBAPI2 connection. Other DBAPI2 objects are not tested. Please consider using SQLAlchemy.\n",
      "  df = pd.read_sql(query, connection)\n"
     ]
    },
    {
     "data": {
      "text/html": [
       "<div>\n",
       "<style scoped>\n",
       "    .dataframe tbody tr th:only-of-type {\n",
       "        vertical-align: middle;\n",
       "    }\n",
       "\n",
       "    .dataframe tbody tr th {\n",
       "        vertical-align: top;\n",
       "    }\n",
       "\n",
       "    .dataframe thead th {\n",
       "        text-align: right;\n",
       "    }\n",
       "</style>\n",
       "<table border=\"1\" class=\"dataframe\">\n",
       "  <thead>\n",
       "    <tr style=\"text-align: right;\">\n",
       "      <th></th>\n",
       "      <th>region</th>\n",
       "      <th>count_vac</th>\n",
       "    </tr>\n",
       "  </thead>\n",
       "  <tbody>\n",
       "    <tr>\n",
       "      <th>0</th>\n",
       "      <td>Волгоград</td>\n",
       "      <td>24.0</td>\n",
       "    </tr>\n",
       "    <tr>\n",
       "      <th>1</th>\n",
       "      <td>Воронеж</td>\n",
       "      <td>32.0</td>\n",
       "    </tr>\n",
       "    <tr>\n",
       "      <th>2</th>\n",
       "      <td>Екатеринбург</td>\n",
       "      <td>39.0</td>\n",
       "    </tr>\n",
       "    <tr>\n",
       "      <th>3</th>\n",
       "      <td>Казань</td>\n",
       "      <td>25.0</td>\n",
       "    </tr>\n",
       "    <tr>\n",
       "      <th>4</th>\n",
       "      <td>Краснодар</td>\n",
       "      <td>30.0</td>\n",
       "    </tr>\n",
       "    <tr>\n",
       "      <th>5</th>\n",
       "      <td>Красноярск</td>\n",
       "      <td>23.0</td>\n",
       "    </tr>\n",
       "    <tr>\n",
       "      <th>6</th>\n",
       "      <td>Москва</td>\n",
       "      <td>54.0</td>\n",
       "    </tr>\n",
       "    <tr>\n",
       "      <th>7</th>\n",
       "      <td>Нижний Новгород</td>\n",
       "      <td>36.0</td>\n",
       "    </tr>\n",
       "    <tr>\n",
       "      <th>8</th>\n",
       "      <td>Новосибирск</td>\n",
       "      <td>35.0</td>\n",
       "    </tr>\n",
       "    <tr>\n",
       "      <th>9</th>\n",
       "      <td>Омск</td>\n",
       "      <td>21.0</td>\n",
       "    </tr>\n",
       "    <tr>\n",
       "      <th>10</th>\n",
       "      <td>Пермь</td>\n",
       "      <td>25.0</td>\n",
       "    </tr>\n",
       "    <tr>\n",
       "      <th>11</th>\n",
       "      <td>Ростов-на-Дону</td>\n",
       "      <td>25.0</td>\n",
       "    </tr>\n",
       "    <tr>\n",
       "      <th>12</th>\n",
       "      <td>Самара</td>\n",
       "      <td>26.0</td>\n",
       "    </tr>\n",
       "    <tr>\n",
       "      <th>13</th>\n",
       "      <td>Санкт-Петербург</td>\n",
       "      <td>42.0</td>\n",
       "    </tr>\n",
       "    <tr>\n",
       "      <th>14</th>\n",
       "      <td>Уфа</td>\n",
       "      <td>26.0</td>\n",
       "    </tr>\n",
       "    <tr>\n",
       "      <th>15</th>\n",
       "      <td>Челябинск</td>\n",
       "      <td>22.0</td>\n",
       "    </tr>\n",
       "    <tr>\n",
       "      <th>16</th>\n",
       "      <td>Total</td>\n",
       "      <td>485.0</td>\n",
       "    </tr>\n",
       "  </tbody>\n",
       "</table>\n",
       "</div>"
      ],
      "text/plain": [
       "             region  count_vac\n",
       "0         Волгоград       24.0\n",
       "1           Воронеж       32.0\n",
       "2      Екатеринбург       39.0\n",
       "3            Казань       25.0\n",
       "4         Краснодар       30.0\n",
       "5        Красноярск       23.0\n",
       "6            Москва       54.0\n",
       "7   Нижний Новгород       36.0\n",
       "8       Новосибирск       35.0\n",
       "9              Омск       21.0\n",
       "10            Пермь       25.0\n",
       "11   Ростов-на-Дону       25.0\n",
       "12           Самара       26.0\n",
       "13  Санкт-Петербург       42.0\n",
       "14              Уфа       26.0\n",
       "15        Челябинск       22.0\n",
       "16            Total      485.0"
      ]
     },
     "execution_count": 18,
     "metadata": {},
     "output_type": "execute_result"
    }
   ],
   "source": [
    "citys = ( 'Москва', 'Санкт-Петербург', 'Новосибирск', 'Екатеринбург', 'Казань', 'Нижний Новгород', 'Красноярск', 'Челябинск', 'Самара', 'Уфа', \n",
    "        'Ростов-на-Дону', 'Краснодар', 'Омск', 'Воронеж', 'Пермь', 'Волгоград')\n",
    "query = f'''WITH RegionVacancies AS\n",
    "                (SELECT\n",
    "                    a.name region,\n",
    "                    COUNT(v.id) count_vac\n",
    "                FROM vacancies v\n",
    "                JOIN employers e ON e.id = v.employer_id\n",
    "                JOIN areas a ON v.area_id = a.id\n",
    "                WHERE e.name = 'Яндекс' AND a.name in {citys}\n",
    "                GROUP BY a.name\n",
    "                \n",
    "            )\n",
    "            \n",
    "            SELECT\n",
    "                r.region,\n",
    "                r.count_vac\n",
    "            FROM RegionVacancies r\n",
    "             \n",
    "            UNION ALL\n",
    "            \n",
    "            SELECT \n",
    "                'Total' region,\n",
    "                SUM(count_vac) total_vac\n",
    "            FROM RegionVacancies   \n",
    "            '''\n",
    "df = pd.read_sql(query, connection)\n",
    "df            \n"
   ]
  },
  {
   "cell_type": "markdown",
   "metadata": {},
   "source": [
    "----------------------------\n",
    "#### Выводы по третьему блоку заданий.\n",
    "* Самое большое кол-во вакансий у Яндекса. Вероятно это связано с тем, что компания довольно долго на рынке и весьма успешная. Яндекс постоянно развивается и расширяется, а это требует поиска новых сотрудников. Так же у Янедкса вакансии распределны во многих регионах, что говорит о том, что компания может набирать сотрудников на удалённую работу, а также наличие в некоторых других городах офисов, что опять же повышает у соискателей интерес к этой компании.\n",
    "* Следом идёт Ростелеком, который занимается телекоммуникациями, что так же может сказать о том, что эта компания занимает на данный момент лидирующую позицию.\n",
    "* Далее идут крупнейшие банки России и нефтегазовае компании.\n",
    "------------------------------"
   ]
  },
  {
   "cell_type": "markdown",
   "metadata": {},
   "source": [
    "#### 6.1 Определяю, сколько вакансий имеет отношение к данным (содержат слова 'data', 'данн')."
   ]
  },
  {
   "cell_type": "code",
   "execution_count": 19,
   "metadata": {},
   "outputs": [
    {
     "name": "stderr",
     "output_type": "stream",
     "text": [
      "C:\\Users\\dasad\\AppData\\Local\\Temp\\ipykernel_16112\\310937855.py:7: UserWarning: pandas only supports SQLAlchemy connectable (engine/connection) or database string URI or sqlite3 DBAPI2 connection. Other DBAPI2 objects are not tested. Please consider using SQLAlchemy.\n",
      "  df = pd.read_sql(query, connection)\n"
     ]
    },
    {
     "data": {
      "text/html": [
       "<div>\n",
       "<style scoped>\n",
       "    .dataframe tbody tr th:only-of-type {\n",
       "        vertical-align: middle;\n",
       "    }\n",
       "\n",
       "    .dataframe tbody tr th {\n",
       "        vertical-align: top;\n",
       "    }\n",
       "\n",
       "    .dataframe thead th {\n",
       "        text-align: right;\n",
       "    }\n",
       "</style>\n",
       "<table border=\"1\" class=\"dataframe\">\n",
       "  <thead>\n",
       "    <tr style=\"text-align: right;\">\n",
       "      <th></th>\n",
       "      <th>count_vac</th>\n",
       "    </tr>\n",
       "  </thead>\n",
       "  <tbody>\n",
       "    <tr>\n",
       "      <th>0</th>\n",
       "      <td>1771</td>\n",
       "    </tr>\n",
       "  </tbody>\n",
       "</table>\n",
       "</div>"
      ],
      "text/plain": [
       "   count_vac\n",
       "0       1771"
      ]
     },
     "execution_count": 19,
     "metadata": {},
     "output_type": "execute_result"
    }
   ],
   "source": [
    "query = ''' SELECT \n",
    "                COUNT(*) count_vac\n",
    "            FROM vacancies v\n",
    "            WHERE LOWER(v.name) LIKE '%data%' OR LOWER(v.name) LIKE '%данн%'\n",
    "         '''\n",
    "         \n",
    "df = pd.read_sql(query, connection)\n",
    "df"
   ]
  },
  {
   "cell_type": "markdown",
   "metadata": {},
   "source": [
    "#### 6.2 Определяю сколько вакансий подходят для начинающего DS и содержат ключевые слова 'junior' или 'нет опыта', или 'стажировка'."
   ]
  },
  {
   "cell_type": "code",
   "execution_count": 23,
   "metadata": {},
   "outputs": [
    {
     "name": "stderr",
     "output_type": "stream",
     "text": [
      "C:\\Users\\dasad\\AppData\\Local\\Temp\\ipykernel_16112\\4206567296.py:16: UserWarning: pandas only supports SQLAlchemy connectable (engine/connection) or database string URI or sqlite3 DBAPI2 connection. Other DBAPI2 objects are not tested. Please consider using SQLAlchemy.\n",
      "  df = pd.read_sql(query, connection)\n"
     ]
    },
    {
     "data": {
      "text/html": [
       "<div>\n",
       "<style scoped>\n",
       "    .dataframe tbody tr th:only-of-type {\n",
       "        vertical-align: middle;\n",
       "    }\n",
       "\n",
       "    .dataframe tbody tr th {\n",
       "        vertical-align: top;\n",
       "    }\n",
       "\n",
       "    .dataframe thead th {\n",
       "        text-align: right;\n",
       "    }\n",
       "</style>\n",
       "<table border=\"1\" class=\"dataframe\">\n",
       "  <thead>\n",
       "    <tr style=\"text-align: right;\">\n",
       "      <th></th>\n",
       "      <th>count_vac</th>\n",
       "    </tr>\n",
       "  </thead>\n",
       "  <tbody>\n",
       "    <tr>\n",
       "      <th>0</th>\n",
       "      <td>51</td>\n",
       "    </tr>\n",
       "  </tbody>\n",
       "</table>\n",
       "</div>"
      ],
      "text/plain": [
       "   count_vac\n",
       "0         51"
      ]
     },
     "execution_count": 23,
     "metadata": {},
     "output_type": "execute_result"
    }
   ],
   "source": [
    "#filter_list = ('data scientist', 'data science', 'исследователь данных', 'ML', 'machine learning', 'машинн%обучен%')\n",
    "query = ''' SELECT \n",
    "                COUNT(*) count_vac\n",
    "            FROM vacancies v\n",
    "            WHERE ((v.name ILIKE '%data scientist%'\n",
    "                OR v.name ILIKE '%data science%'\n",
    "                OR v.name ILIKE '%исследователь данных%')\n",
    "                OR (v.name LIKE '%ML%' AND v.name NOT LIKE '%HTML%')\n",
    "                OR v.name ILIKE '%machine learning%'\n",
    "                OR v.name ILIKE '%машинн%обучен%'\n",
    "                AND v.key_skills IS NOT NULL)  \n",
    "            AND (v.name ILIKE '%junior%' \n",
    "                OR v.experience ILIKE '%нет опыта%'\n",
    "                OR v.employment ILIKE '%стажировка%')            \n",
    "        ''' \n",
    "df = pd.read_sql(query, connection)\n",
    "df"
   ]
  },
  {
   "cell_type": "markdown",
   "metadata": {},
   "source": [
    "#### 6.3 Определяю сколько вакансий содержат ключевый навыки 'postgres' и 'SQL'."
   ]
  },
  {
   "cell_type": "code",
   "execution_count": 22,
   "metadata": {},
   "outputs": [
    {
     "name": "stderr",
     "output_type": "stream",
     "text": [
      "C:\\Users\\dasad\\AppData\\Local\\Temp\\ipykernel_16112\\1692347994.py:14: UserWarning: pandas only supports SQLAlchemy connectable (engine/connection) or database string URI or sqlite3 DBAPI2 connection. Other DBAPI2 objects are not tested. Please consider using SQLAlchemy.\n",
      "  df = pd.read_sql(query, connection)\n"
     ]
    },
    {
     "data": {
      "text/html": [
       "<div>\n",
       "<style scoped>\n",
       "    .dataframe tbody tr th:only-of-type {\n",
       "        vertical-align: middle;\n",
       "    }\n",
       "\n",
       "    .dataframe tbody tr th {\n",
       "        vertical-align: top;\n",
       "    }\n",
       "\n",
       "    .dataframe thead th {\n",
       "        text-align: right;\n",
       "    }\n",
       "</style>\n",
       "<table border=\"1\" class=\"dataframe\">\n",
       "  <thead>\n",
       "    <tr style=\"text-align: right;\">\n",
       "      <th></th>\n",
       "      <th>count_filter</th>\n",
       "    </tr>\n",
       "  </thead>\n",
       "  <tbody>\n",
       "    <tr>\n",
       "      <th>0</th>\n",
       "      <td>201</td>\n",
       "    </tr>\n",
       "  </tbody>\n",
       "</table>\n",
       "</div>"
      ],
      "text/plain": [
       "   count_filter\n",
       "0           201"
      ]
     },
     "execution_count": 22,
     "metadata": {},
     "output_type": "execute_result"
    }
   ],
   "source": [
    "query = ''' SELECT \n",
    "                COUNT(v.name) count_filter\n",
    "            FROM vacancies v\n",
    "            WHERE (v.name ILIKE '%data scientist%'\n",
    "                OR v.name ILIKE '%data science%'\n",
    "                OR v.name ILIKE '%исследователь данных%'\n",
    "                OR (v.name LIKE '%ML%' AND v.name NOT iLIKE '%HTML%')\n",
    "                OR v.name ILIKE '%machine learning%'\n",
    "                OR v.name ILIKE '%машинн%обучен%'\n",
    "                AND v.key_skills IS NOT NULL)  \n",
    "            AND (v.key_skills ILIKE '%sql%'\n",
    "                OR v.key_skills ILIKE '%postgre%')          \n",
    "        ''' \n",
    "df = pd.read_sql(query, connection)\n",
    "df"
   ]
  },
  {
   "cell_type": "markdown",
   "metadata": {},
   "source": [
    "#### 6.4 Определяю на сколько часто встречается в ключевых навыках 'python'."
   ]
  },
  {
   "cell_type": "code",
   "execution_count": 20,
   "metadata": {},
   "outputs": [
    {
     "name": "stderr",
     "output_type": "stream",
     "text": [
      "C:\\Users\\dasad\\AppData\\Local\\Temp\\ipykernel_16112\\1956259922.py:14: UserWarning: pandas only supports SQLAlchemy connectable (engine/connection) or database string URI or sqlite3 DBAPI2 connection. Other DBAPI2 objects are not tested. Please consider using SQLAlchemy.\n",
      "  df = pd.read_sql(query, connection)\n"
     ]
    },
    {
     "data": {
      "text/html": [
       "<div>\n",
       "<style scoped>\n",
       "    .dataframe tbody tr th:only-of-type {\n",
       "        vertical-align: middle;\n",
       "    }\n",
       "\n",
       "    .dataframe tbody tr th {\n",
       "        vertical-align: top;\n",
       "    }\n",
       "\n",
       "    .dataframe thead th {\n",
       "        text-align: right;\n",
       "    }\n",
       "</style>\n",
       "<table border=\"1\" class=\"dataframe\">\n",
       "  <thead>\n",
       "    <tr style=\"text-align: right;\">\n",
       "      <th></th>\n",
       "      <th>count_key</th>\n",
       "    </tr>\n",
       "  </thead>\n",
       "  <tbody>\n",
       "    <tr>\n",
       "      <th>0</th>\n",
       "      <td>351</td>\n",
       "    </tr>\n",
       "  </tbody>\n",
       "</table>\n",
       "</div>"
      ],
      "text/plain": [
       "   count_key\n",
       "0        351"
      ]
     },
     "execution_count": 20,
     "metadata": {},
     "output_type": "execute_result"
    }
   ],
   "source": [
    "query = ''' SELECT \n",
    "                COUNT(v.name) count_key\n",
    "            FROM vacancies v\n",
    "            WHERE ((v.name ILIKE '%data scientist%'\n",
    "                OR v.name ILIKE '%data science%'\n",
    "                OR v.name ILIKE '%исследователь данных%')\n",
    "                OR (v.name LIKE '%ML%' AND v.name NOT LIKE '%HTML%')\n",
    "                OR v.name ILIKE '%machine learning%'\n",
    "                OR v.name ILIKE '%машинн%обучен%'\n",
    "                AND v.key_skills IS NOT NULL) \n",
    "            AND (v.key_skills ILIKE '%python%')\n",
    "                \n",
    "        '''\n",
    "df = pd.read_sql(query, connection)\n",
    "df"
   ]
  },
  {
   "cell_type": "markdown",
   "metadata": {},
   "source": [
    "#### 6.5 Определяю сколько ключевых навыков в среднем указывают в вакансиях для DS."
   ]
  },
  {
   "cell_type": "code",
   "execution_count": 21,
   "metadata": {},
   "outputs": [
    {
     "name": "stderr",
     "output_type": "stream",
     "text": [
      "C:\\Users\\dasad\\AppData\\Local\\Temp\\ipykernel_16112\\3632378579.py:12: UserWarning: pandas only supports SQLAlchemy connectable (engine/connection) or database string URI or sqlite3 DBAPI2 connection. Other DBAPI2 objects are not tested. Please consider using SQLAlchemy.\n",
      "  df = pd.read_sql(query, connection)\n"
     ]
    },
    {
     "data": {
      "text/html": [
       "<div>\n",
       "<style scoped>\n",
       "    .dataframe tbody tr th:only-of-type {\n",
       "        vertical-align: middle;\n",
       "    }\n",
       "\n",
       "    .dataframe tbody tr th {\n",
       "        vertical-align: top;\n",
       "    }\n",
       "\n",
       "    .dataframe thead th {\n",
       "        text-align: right;\n",
       "    }\n",
       "</style>\n",
       "<table border=\"1\" class=\"dataframe\">\n",
       "  <thead>\n",
       "    <tr style=\"text-align: right;\">\n",
       "      <th></th>\n",
       "      <th>count_key_skills</th>\n",
       "    </tr>\n",
       "  </thead>\n",
       "  <tbody>\n",
       "    <tr>\n",
       "      <th>0</th>\n",
       "      <td>6.41</td>\n",
       "    </tr>\n",
       "  </tbody>\n",
       "</table>\n",
       "</div>"
      ],
      "text/plain": [
       "   count_key_skills\n",
       "0              6.41"
      ]
     },
     "execution_count": 21,
     "metadata": {},
     "output_type": "execute_result"
    }
   ],
   "source": [
    "query = ''' SELECT \n",
    "                ROUND(AVG(CAST(cardinality(REGEXP_SPLIT_TO_ARRAY(v.key_skills, '\\t')) AS NUMERIC)),2) count_key_skills\n",
    "            FROM vacancies v\n",
    "            WHERE ((v.name ILIKE '%data scientist%'\n",
    "                OR v.name ILIKE '%data science%'\n",
    "                OR v.name ILIKE '%исследователь данных%')\n",
    "                OR (v.name LIKE '%ML%' AND v.name NOT LIKE '%HTML%')\n",
    "                OR v.name ILIKE '%machine learning%'\n",
    "                OR v.name ILIKE '%машинн%обучен%')\n",
    "                AND (v.key_skills IS NOT NULL) \n",
    "        '''\n",
    "df = pd.read_sql(query, connection)\n",
    "df"
   ]
  },
  {
   "cell_type": "markdown",
   "metadata": {},
   "source": [
    "#### 6.6 Какая зарплата в среднем указывается для DS для каждого требуемого опыта."
   ]
  },
  {
   "cell_type": "code",
   "execution_count": 23,
   "metadata": {},
   "outputs": [
    {
     "name": "stderr",
     "output_type": "stream",
     "text": [
      "C:\\Users\\dasad\\AppData\\Local\\Temp\\ipykernel_19784\\2908391099.py:22: UserWarning: pandas only supports SQLAlchemy connectable (engine/connection) or database string URI or sqlite3 DBAPI2 connection. Other DBAPI2 objects are not tested. Please consider using SQLAlchemy.\n",
      "  df = pd.read_sql(query, connection)\n",
      "c:\\Users\\dasad\\AppData\\Local\\Programs\\Python\\Python311\\Lib\\site-packages\\seaborn\\_oldcore.py:1498: FutureWarning: is_categorical_dtype is deprecated and will be removed in a future version. Use isinstance(dtype, CategoricalDtype) instead\n",
      "  if pd.api.types.is_categorical_dtype(vector):\n",
      "c:\\Users\\dasad\\AppData\\Local\\Programs\\Python\\Python311\\Lib\\site-packages\\seaborn\\_oldcore.py:1498: FutureWarning: is_categorical_dtype is deprecated and will be removed in a future version. Use isinstance(dtype, CategoricalDtype) instead\n",
      "  if pd.api.types.is_categorical_dtype(vector):\n",
      "c:\\Users\\dasad\\AppData\\Local\\Programs\\Python\\Python311\\Lib\\site-packages\\seaborn\\_oldcore.py:1498: FutureWarning: is_categorical_dtype is deprecated and will be removed in a future version. Use isinstance(dtype, CategoricalDtype) instead\n",
      "  if pd.api.types.is_categorical_dtype(vector):\n"
     ]
    },
    {
     "data": {
      "image/png": "[encoded data removed]",
      "text/plain": [
       "<Figure size 640x480 with 1 Axes>"
      ]
     },
     "metadata": {},
     "output_type": "display_data"
    }
   ],
   "source": [
    "query = '''WITH zp AS(SELECT\n",
    "                v.experience,\n",
    "                v.salary_from,\n",
    "                v.salary_to     \n",
    "            FROM vacancies v\n",
    "            WHERE ((v.name ILIKE '%data scientist%'\n",
    "                OR v.name ILIKE '%data science%'\n",
    "                OR v.name ILIKE '%исследователь данных%')\n",
    "                OR (v.name LIKE '%ML%' AND v.name NOT LIKE '%HTML%')\n",
    "                OR v.name ILIKE '%machine learning%'\n",
    "                OR v.name ILIKE '%машинн%обучен%')\n",
    "                AND (v.key_skills IS NOT NULL)\n",
    "                AND(v.salary_from IS NOT NULL \n",
    "                OR v.salary_to IS NOT NULL) \n",
    "            )\n",
    "        SELECT \n",
    "            experience,\n",
    "            ROUND(AVG(coalesce((salary_from + salary_to)/2, salary_from, salary_to)),0) AS average_salary\n",
    "        FROM zp\n",
    "        GROUP BY experience   \n",
    "        '''\n",
    "df = pd.read_sql(query, connection)\n",
    "df\n",
    "ax = sns.barplot(df, x ='experience', y='average_salary')\n",
    "ax.set_title('Соотношение опыта работы и зарплаты')\n",
    "ax.set_xlabel('Опыт работы')\n",
    "ax.set_ylabel('Уровень зарплаты')\n",
    "plt.show()\n"
   ]
  },
  {
   "cell_type": "markdown",
   "metadata": {},
   "source": [
    "----------------------------\n",
    "#### Выводы по третьему блоку заданий.\n",
    "* Исходя из результатов, можно сказать, что вакансий на DS не так много, особенно для новичков у которых нет опыта, что говорит о том, что рынок на данный момент перенасыщен и конкуренция возросла.\n",
    "* Очевидно, что чем больше опыта работы, тем выше зарплата.\n",
    "------------------------\n"
   ]
  },
  {
   "cell_type": "markdown",
   "metadata": {},
   "source": [
    "------------------------------\n",
    "-------------------------------\n",
    "## Основной вывод\n",
    "* Больше всего вакансий имеют отношение к IT-сфере.\n",
    "* Основная концентрация вакансий - это столицы регионов и столицы ближайших к России стран.\n",
    "* Основная масса вакансий сосредоточена у крупных компаний, которые в своих отрослях занимают лидирующие позиции.\n",
    "* Анализ средних показателей зарплат показал, что они не такие высокие в сравнении с некоторыми другими странами.\n",
    "* В целом, количество вакансий не высокое, учитывая, что hh.ru один из самых популярных сервисов в России, Белоруссии, Казахстане.\n",
    "\n",
    "------------------------\n",
    "----------------------"
   ]
  },
  {
   "cell_type": "code",
   "execution_count": 55,
   "metadata": {},
   "outputs": [],
   "source": [
    "connection.close()"
   ]
  }
 ],
 "metadata": {
  "kernelspec": {
   "display_name": "Python 3",
   "language": "python",
   "name": "python3"
  },
  "language_info": {
   "codemirror_mode": {
    "name": "ipython",
    "version": 3
   },
   "file_extension": ".py",
   "mimetype": "text/x-python",
   "name": "python",
   "nbconvert_exporter": "python",
   "pygments_lexer": "ipython3",
   "version": "3.11.5"
  },
  "orig_nbformat": 4
 },
 "nbformat": 4,
 "nbformat_minor": 2
}
